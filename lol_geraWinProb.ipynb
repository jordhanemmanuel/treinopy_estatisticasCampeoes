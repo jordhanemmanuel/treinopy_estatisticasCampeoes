{
 "cells": [
  {
   "source": [
    "### Notebook criado para aprender a fazer leitura de HTML usando **Python 3**\n",
    "\n",
    "> **Objetivos:**\n",
    "> - Entender como funciona requests de urls com Python;\n",
    "> - Obter dados de um html (numeros, nomes, etc) e guardar em listas;\n",
    "> - Manipular os dados e alterá-los com pesos;\n",
    "\n",
    "> **Objetivos Secundários:**\n",
    "> - Criar gráficos com os dados obtidos;\n",
    "> - Obter perfil do jogador dinamicamente;"
   ],
   "cell_type": "markdown",
   "metadata": {}
  },
  {
   "source": [
    "### Realização das importações de bibliotecas necessárias"
   ],
   "cell_type": "markdown",
   "metadata": {}
  },
  {
   "cell_type": "code",
   "execution_count": 23,
   "metadata": {},
   "outputs": [],
   "source": [
    "import urllib.request as request # Request html\n",
    "import os # Funcoes do Sistema Operacional\n",
    "import bs4 as soup # Beautiful Soup"
   ]
  },
  {
   "cell_type": "code",
   "execution_count": null,
   "metadata": {},
   "outputs": [],
   "source": [
    "def get_dadosUrl()"
   ]
  },
  {
   "cell_type": "code",
   "execution_count": 40,
   "metadata": {},
   "outputs": [],
   "source": [
    "champion = ['fiddlesticks']\n",
    "elo = ['gold']\n",
    "role = ['jungle']\n",
    "patch = ['11_9']\n",
    "# url = 'https://u.gg/lol/champions/'+champion[0]+'/build?rank='+elo[0]+'&role='+role[0]+'&patch='+patch[0]"
   ]
  },
  {
   "cell_type": "code",
   "execution_count": 38,
   "metadata": {},
   "outputs": [
    {
     "output_type": "stream",
     "name": "stdout",
     "text": [
      "52.76\nS\n"
     ]
    }
   ],
   "source": [
    "url_response = request.urlopen(url).read()\n",
    "url_content = url_response.decode('utf-8')\n",
    "\n",
    "url_soup = soup.BeautifulSoup(url_content)\n",
    "#div_stats = url_soup.find('div', {\"class\":\"content-section champion-ranking-stats\"})\n",
    "\n",
    "div_wr = url_soup.find('div', {\"class\":\"content-section champion-ranking-stats\"}).find('div', {\"class\":\"win-rate good-tier\"}).text\n",
    "status_tier = url_soup.find('div', {\"class\":\"tier-header\"}).text\n",
    "status_wr = div_wr.replace('%Win Rate', '')\n",
    "\n",
    "print(status_wr)\n",
    "print(status_tier)\n"
   ]
  },
  {
   "cell_type": "code",
   "execution_count": null,
   "metadata": {},
   "outputs": [],
   "source": [
    "arquivo = open(\"./testFiles/statistics.csv\", \"w\")\n",
    "arquivo.write(html_content)\n",
    "arquivo.close()"
   ]
  }
 ],
 "metadata": {
  "kernelspec": {
   "name": "python385jvsc74a57bd09026362b0ca2d11e910d47a8cbd8118248723be0df1204bcf43038cf9f7fe67e",
   "display_name": "Python 3.8.5 64-bit (conda)"
  },
  "language_info": {
   "codemirror_mode": {
    "name": "ipython",
    "version": 3
   },
   "file_extension": ".py",
   "mimetype": "text/x-python",
   "name": "python",
   "nbconvert_exporter": "python",
   "pygments_lexer": "ipython3",
   "version": "3.8.5"
  }
 },
 "nbformat": 4,
 "nbformat_minor": 4
}