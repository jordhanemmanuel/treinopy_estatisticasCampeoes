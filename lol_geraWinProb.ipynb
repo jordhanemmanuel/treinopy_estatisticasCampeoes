{
 "cells": [
  {
   "source": [
    "### Notebook criado para aprender a fazer leitura de HTML usando **Python 3**\n",
    "\n",
    "> **Objetivos:**\n",
    "> - Entender como funciona requests de urls com Python;\n",
    "> - Obter dados de um html (numeros, nomes, etc) e guardar em listas;\n",
    "> - Manipular os dados e alterá-los com pesos;\n",
    "\n",
    "> **Objetivos Secundários:**\n",
    "> - Criar gráficos com os dados obtidos;\n",
    "> - Obter perfil do jogador dinamicamente;"
   ],
   "cell_type": "markdown",
   "metadata": {}
  },
  {
   "source": [
    "### Realização das importações de bibliotecas necessárias"
   ],
   "cell_type": "markdown",
   "metadata": {}
  },
  {
   "cell_type": "code",
   "execution_count": 5,
   "metadata": {},
   "outputs": [],
   "source": [
    "import requests_html as requestsHtml # Request html\n",
    "import os # Funcoes do Sistema Operacional\n",
    "import bs4 as soup # Beautiful Soup"
   ]
  },
  {
   "cell_type": "code",
   "execution_count": 37,
   "metadata": {},
   "outputs": [],
   "source": [
    "class DadosUrl:\n",
    "    def __init__(self, champion, elo, role, patch):\n",
    "        self.champion = champion\n",
    "        self.elo = elo\n",
    "        self.role = role\n",
    "        self.patch = patch\n",
    "\n",
    "    def createUrlList(self):\n",
    "        urls = []\n",
    "        urls.clear() # Para garantir que a lista esteja vazia\n",
    "        for a in self.champion:\n",
    "            for b in self.elo:\n",
    "                for c in self.role:\n",
    "                    for d in self.patch:\n",
    "                        urls.append('https://u.gg/lol/champions/'+a+'/build?rank='+b+'&role='+c+'&patch='+d)\n",
    "        return urls        \n",
    "\n",
    "    def requestUrlData(self, url):\n",
    "        request = requestsHtml.HTMLSession()\n",
    "        url_content = request.get(url).content\n",
    "        url_soup = soup.BeautifulSoup(url_content, 'html.parser')\n",
    "        tier = url_soup.find('div', {\"class\":\"tier-header\"}).text\n",
    "        wr = url_soup.find('div', {\"class\":\"content-section champion-ranking-stats\"}).find('div', {\"class\":\"win-rate\"}).find('div', {\"class\":\"value\"}).text\n",
    "        wr = wr.replace('%', '')\n",
    "        name = url_soup.find('span', {\"class\":\"champion-name\"}).text\n",
    "        return name, tier, float(wr)\n",
    "\n",
    "class DadosChampion:\n",
    "    def __init__(self, name, tier, wr):\n",
    "        self.name = name\n",
    "        self.tier = tier\n",
    "        self.wr = wr\n"
   ]
  },
  {
   "cell_type": "code",
   "execution_count": 38,
   "metadata": {},
   "outputs": [],
   "source": [
    "champion = ['fiddlesticks','morgana','mordekaiser','udyr']\n",
    "elo = ['gold','platinum']\n",
    "role = ['jungle']\n",
    "patch = ['11_9']\n",
    "\n",
    "dadoUrl = DadosUrl(champion, elo, role, patch)\n",
    "urls = dadoUrl.createUrlList()\n",
    "# url = 'https://u.gg/lol/champions/'+champion[0]+'/build?rank='+elo[0]+'&role='+role[0]+'&patch='+patch[0]"
   ]
  },
  {
   "cell_type": "code",
   "execution_count": 41,
   "metadata": {},
   "outputs": [],
   "source": [
    "dataList = []\n",
    "dataList.clear()\n",
    "for u in urls:\n",
    "    name, tier, wr = dadoUrl.requestUrlData(u)\n",
    "    dataList.append(DadosChampion(name,tier,wr))\n",
    "    #dataList.append({\"name\":name, \"tier\":tier, \"wr\":wr})"
   ]
  },
  {
   "cell_type": "code",
   "execution_count": 46,
   "metadata": {},
   "outputs": [
    {
     "output_type": "stream",
     "name": "stdout",
     "text": [
      "[<__main__.DadosChampion object at 0x000001ADB53477F0>, <__main__.DadosChampion object at 0x000001ADB56EFF10>, <__main__.DadosChampion object at 0x000001ADB5D32FD0>, <__main__.DadosChampion object at 0x000001ADB5D43CA0>, <__main__.DadosChampion object at 0x000001ADB5C25D00>, <__main__.DadosChampion object at 0x000001ADB5E91D00>, <__main__.DadosChampion object at 0x000001ADB5FDADC0>, <__main__.DadosChampion object at 0x000001ADB60A5D30>]\nFiddlesticks\nFiddlesticks S 52.73\nFiddlesticks S 53.16\n"
     ]
    }
   ],
   "source": [
    "print(dataList)\n",
    "print(dataList[0].name)\n",
    "condicao = (x1 for x1 in dataList  if x1.name in 'Fiddlesticks')\n",
    "for x in condicao:\n",
    "    print(x.name, x.tier, x.wr)"
   ]
  },
  {
   "cell_type": "code",
   "execution_count": null,
   "metadata": {},
   "outputs": [],
   "source": [
    "arquivo = open(\"./testFiles/statistics.csv\", \"w\")\n",
    "arquivo.write(html_content)\n",
    "arquivo.close()"
   ]
  }
 ],
 "metadata": {
  "kernelspec": {
   "name": "python385jvsc74a57bd09026362b0ca2d11e910d47a8cbd8118248723be0df1204bcf43038cf9f7fe67e",
   "display_name": "Python 3.8.5 64-bit (conda)"
  },
  "language_info": {
   "codemirror_mode": {
    "name": "ipython",
    "version": 3
   },
   "file_extension": ".py",
   "mimetype": "text/x-python",
   "name": "python",
   "nbconvert_exporter": "python",
   "pygments_lexer": "ipython3",
   "version": "3.8.5"
  }
 },
 "nbformat": 4,
 "nbformat_minor": 4
}